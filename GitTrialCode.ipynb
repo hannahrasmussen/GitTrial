{
 "cells": [
  {
   "cell_type": "code",
   "execution_count": 1,
   "id": "9299a5cf",
   "metadata": {},
   "outputs": [],
   "source": [
    "import numpy as np\n",
    "import numba as nb\n",
    "import matplotlib.pyplot as plt"
   ]
  },
  {
   "cell_type": "code",
   "execution_count": 2,
   "id": "7410fa56",
   "metadata": {},
   "outputs": [],
   "source": [
    "#Circumference and area of a circle, surface area and volume of a sphere, surface area and volume of a cube\n",
    "\n",
    "def C(r):\n",
    "    return 2*np.pi*r\n",
    "\n",
    "def A(r):\n",
    "    return np.pi*r**2\n",
    "\n",
    "def SA_sphere(r):\n",
    "    return 4*np.pi*r**2\n",
    "\n",
    "def SA_cube(s):\n",
    "    return 6*s**2\n",
    "\n",
    "def vol_cube(s):\n",
    "    return s**3\n",
    "\n",
    "def vol_sphere(r):\n",
    "    return (4/3)*np.pi*r**3\n",
    "\n",
    "def SA_cylinder(r,h):\n",
    "    return 2*A(r)+h*C(r)\n",
    "\n",
    "def vol_cylinder(r,h):\n",
    "    return h*A(r)"
   ]
  },
  {
   "cell_type": "code",
   "execution_count": 3,
   "id": "d378f9c0",
   "metadata": {},
   "outputs": [
    {
     "name": "stdout",
     "output_type": "stream",
     "text": [
      "The surface area of a clyinder with radius=1 and height=1 is 12.566370614359172\n",
      "The volume of a cylinder with radius=1 and height=1 is 3.141592653589793\n"
     ]
    }
   ],
   "source": [
    "#tests for each new function\n",
    "\n",
    "print(\"The surface area of a clyinder with radius=1 and height=1 is \"+str(SA_cylinder(1,1)))\n",
    "\n",
    "print(\"The volume of a cylinder with radius=1 and height=1 is \"+str(vol_cylinder(1,1)))"
   ]
  },
  {
   "cell_type": "code",
   "execution_count": null,
   "id": "d0748b4c",
   "metadata": {},
   "outputs": [],
   "source": []
  }
 ],
 "metadata": {
  "kernelspec": {
   "display_name": "Python 3",
   "language": "python",
   "name": "python3"
  },
  "language_info": {
   "codemirror_mode": {
    "name": "ipython",
    "version": 3
   },
   "file_extension": ".py",
   "mimetype": "text/x-python",
   "name": "python",
   "nbconvert_exporter": "python",
   "pygments_lexer": "ipython3",
   "version": "3.8.8"
  }
 },
 "nbformat": 4,
 "nbformat_minor": 5
}
