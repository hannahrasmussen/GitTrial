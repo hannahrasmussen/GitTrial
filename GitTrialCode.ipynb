{
 "cells": [
  {
   "cell_type": "code",
   "execution_count": 1,
   "id": "9299a5cf",
   "metadata": {},
   "outputs": [],
   "source": [
    "import numpy as np\n",
    "import numba as nb\n",
    "import matplotlib.pyplot as plt"
   ]
  },
  {
   "cell_type": "code",
   "execution_count": 2,
   "id": "7410fa56",
   "metadata": {},
   "outputs": [],
   "source": [
    "#Circumference and area of a circle, surface area and volume of a sphere, surface area and volume of a cube\n",
    "\n",
    "def C(r):\n",
    "    return 2*np.pi*r\n",
    "\n",
    "def A(r):\n",
    "    return np.pi*r**2\n",
    "\n",
    "def SA(r):\n",
    "    return 4*np.pi*r**2\n",
    "\n",
    "def vol(r):\n",
    "    return (4/3)*np.pi*r**3\n",
    "\n",
    "def SA_cube(s):\n",
    "    return 6*s**2\n",
    "\n",
    "def vol_cube(s):\n",
    "    return s**3"
   ]
  },
  {
   "cell_type": "code",
   "execution_count": 3,
   "id": "d378f9c0",
   "metadata": {},
   "outputs": [
    {
     "name": "stdout",
     "output_type": "stream",
     "text": [
      "The surface area of a cube with side length 1 is 6\n",
      "The volume of a cube with side length 1 is 1\n"
     ]
    }
   ],
   "source": [
    "#tests for each new function\n",
    "\n",
    "print(\"The surface area of a cube with side length 1 is \"+str(SA_cube(1)))\n",
    "\n",
    "print(\"The volume of a cube with side length 1 is \"+str(vol_cube(1)))"
   ]
  },
  {
   "cell_type": "code",
   "execution_count": null,
   "id": "d0748b4c",
   "metadata": {},
   "outputs": [],
   "source": []
  }
 ],
 "metadata": {
  "kernelspec": {
   "display_name": "Python 3",
   "language": "python",
   "name": "python3"
  },
  "language_info": {
   "codemirror_mode": {
    "name": "ipython",
    "version": 3
   },
   "file_extension": ".py",
   "mimetype": "text/x-python",
   "name": "python",
   "nbconvert_exporter": "python",
   "pygments_lexer": "ipython3",
   "version": "3.7.10"
  }
 },
 "nbformat": 4,
 "nbformat_minor": 5
}
