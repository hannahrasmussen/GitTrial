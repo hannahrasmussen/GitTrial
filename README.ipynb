{
 "cells": [
  {
   "cell_type": "markdown",
   "id": "93e620ea",
   "metadata": {},
   "source": [
    "Hello, I am just making this 'README' file to practice some git commands."
   ]
  },
  {
   "cell_type": "markdown",
   "id": "9c0bf143",
   "metadata": {},
   "source": [
    "I am now making a quick edit so that my file changes..."
   ]
  },
  {
   "cell_type": "code",
   "execution_count": null,
   "id": "a1a1584f",
   "metadata": {},
   "outputs": [],
   "source": []
  }
 ],
 "metadata": {
  "kernelspec": {
   "display_name": "Python 3",
   "language": "python",
   "name": "python3"
  },
  "language_info": {
   "codemirror_mode": {
    "name": "ipython",
    "version": 3
   },
   "file_extension": ".py",
   "mimetype": "text/x-python",
   "name": "python",
   "nbconvert_exporter": "python",
   "pygments_lexer": "ipython3",
   "version": "3.8.8"
  }
 },
 "nbformat": 4,
 "nbformat_minor": 5
}
